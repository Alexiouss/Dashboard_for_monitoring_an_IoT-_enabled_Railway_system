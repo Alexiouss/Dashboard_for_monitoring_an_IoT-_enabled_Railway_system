{
 "cells": [
  {
   "cell_type": "code",
   "execution_count": null,
   "metadata": {},
   "outputs": [],
   "source": [
    "# check scikit-learn version\n",
    "import sklearn\n",
    "import os\n",
    "import json\n",
    "import numpy as np\n",
    "from sklearn.tree import DecisionTreeRegressor\n",
    "from sklearn.linear_model import LinearRegression\n",
    "from sklearn.neighbors import KNeighborsRegressor\n",
    "from numpy import mean,argmax,std,sum\n",
    "from sklearn.model_selection import train_test_split\n",
    "from sklearn.metrics import mean_squared_error,mean_absolute_error,r2_score"
   ]
  },
  {
   "cell_type": "code",
   "execution_count": null,
   "metadata": {},
   "outputs": [],
   "source": [
    "def generate_data(file_str,num_of_files):\n",
    "    output_data=[]\n",
    "    input_data=[]\n",
    "    for _ in range (num_of_files):\n",
    "        \n",
    "        file_path =os.getcwd()+'\\\\'+str(file_str)+'.json'\n",
    "        \n",
    "        with open(file_path, 'r') as json_file:\n",
    "            # Read and parse the JSON data\n",
    "            data = json.load(json_file)\n",
    "\n",
    "        flag=0      \n",
    "        iterator=iter(data)\n",
    "        next_key=next(iterator)\n",
    "        day=0\n",
    "        try:\n",
    "            while True:\n",
    "                current_key=next_key\n",
    "                input_matrix=[]\n",
    "                if(flag==0):\n",
    "                    flag+=1\n",
    "                    next_key=next(iterator)\n",
    "                    continue\n",
    "                day+=1\n",
    "                date=data[current_key]\n",
    "                timeslots=date['timeslots']\n",
    "                for i in range(len(timeslots)):\n",
    "                    input_matrix=[]\n",
    "                    input_matrix.append(i)\n",
    "                    input_matrix.append(date['is_weekend'])\n",
    "                    input_matrix.append(date['is_holiday'])\n",
    "                    input_matrix.append(date['dist_from_holiday'])\n",
    "                    input_matrix.append(day)\n",
    "                    input_matrix.append(date['day_of_week'])\n",
    "                \n",
    "                    input_data.append(input_matrix)\n",
    "                for time in timeslots:\n",
    "                    num_of_people=time['people_count']\n",
    "                    output_data.append(num_of_people)\n",
    "                next_key=next(iterator)\n",
    "\n",
    "        except StopIteration:\n",
    "            pass\n",
    "        file_str+=1\n",
    "    print(len(input_data),len(output_data))\n",
    "    return input_data,output_data\n",
    "\n",
    "    "
   ]
  },
  {
   "cell_type": "code",
   "execution_count": null,
   "metadata": {},
   "outputs": [],
   "source": [
    "input_data,output_data=generate_data(2018,5)"
   ]
  },
  {
   "cell_type": "code",
   "execution_count": null,
   "metadata": {},
   "outputs": [],
   "source": [
    "X, y = input_data, output_data\n",
    "\n",
    "    # Define the model\n",
    "model = DecisionTreeRegressor()\n",
    "\n",
    "# Fit the model\n",
    "model.fit(X, y)\n",
    "# Define the date for which you want predictions (modify as needed)\n",
    "import joblib\n",
    "joblib.dump(model, 'people_prediction_model.pkl')"
   ]
  },
  {
   "cell_type": "code",
   "execution_count": null,
   "metadata": {},
   "outputs": [],
   "source": [
    "target_date = \"2023-09-26\"  # Modify to your desired date\n",
    "sum=0\n",
    "loaded_model = joblib.load('people_prediction_model.pkl')\n",
    "for i in range(14):\n",
    "        # Prepare input features for the current time slot and date\n",
    "        day_of_week=1\n",
    "        day_of_year=269\n",
    "        input_features = [i,1,1,0,day_of_year,day_of_week]\n",
    "        input_features = np.array(input_features).reshape(1, -1)  # Reshape for prediction\n",
    "        y_pred = loaded_model.predict(input_features)\n",
    "        sum+=y_pred\n",
    "        # Print the prediction for the current time slot and date\n",
    "        print(f\"Predicted Temperature for {target_date} {i}: {y_pred}\")\n",
    "\n",
    "print(sum)"
   ]
  }
 ],
 "metadata": {
  "kernelspec": {
   "display_name": "Python 3",
   "language": "python",
   "name": "python3"
  },
  "language_info": {
   "codemirror_mode": {
    "name": "ipython",
    "version": 3
   },
   "file_extension": ".py",
   "mimetype": "text/x-python",
   "name": "python",
   "nbconvert_exporter": "python",
   "pygments_lexer": "ipython3",
   "version": "3.11.5"
  },
  "orig_nbformat": 4
 },
 "nbformat": 4,
 "nbformat_minor": 2
}
